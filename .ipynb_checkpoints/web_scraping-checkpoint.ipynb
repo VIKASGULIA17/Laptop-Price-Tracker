{
 "cells": [
  {
   "cell_type": "code",
   "execution_count": null,
   "id": "5a6c2a18-5c9c-4b68-86bc-0cd36e79b05d",
   "metadata": {},
   "outputs": [],
   "source": [
    "import requests\n",
    "import datetime\n",
    "import pandas as pd\n",
    "\n",
    "SERPAPI_API_KEY='b04c1583667c674b9ad3e4d4eec73436b1415f8acfda3d2bafb365a97f51a8c2'\n",
    "\n",
    "def web_scraping():\n",
    "    params = {\n",
    "        \"api_key\": SERPAPI_API_KEY,\n",
    "        \"engine\": \"amazon\",\n",
    "        \"k\": \"laptop\",\n",
    "        \"page\": 1\n",
    "    }\n",
    "\n",
    "    all_results = []\n",
    "\n",
    "    while True:\n",
    "        try:\n",
    "            response = requests.get(\"https://serpapi.com/search\", params=params).json()\n",
    "\n",
    "            organic_results = response.get(\"organic_results\", [])\n",
    "            if not organic_results:\n",
    "                print(\"No more results found.\")\n",
    "                break\n",
    "\n",
    "            all_results.extend(organic_results)\n",
    "            print(f\"Page {params['page']} processed.\")\n",
    "\n",
    "            params['page'] += 1 \n",
    "\n",
    "        except Exception as e:\n",
    "            print(f\"Error on page {params['page']}: {e}\")\n",
    "            break\n",
    "\n",
    "    \n",
    "    df = pd.DataFrame(all_results)\n",
    "    df['scrape_date'] = datetime.date.today()\n",
    "    df.to_csv(\"amazon_scrape_data.csv\", index=False)\n",
    "    print(\"Scraping complete. Data saved to 'amazon_scrape_data.csv'.\")\n"
   ]
  }
 ],
 "metadata": {
  "kernelspec": {
   "display_name": "Python 3 (ipykernel)",
   "language": "python",
   "name": "python3"
  },
  "language_info": {
   "codemirror_mode": {
    "name": "ipython",
    "version": 3
   },
   "file_extension": ".py",
   "mimetype": "text/x-python",
   "name": "python",
   "nbconvert_exporter": "python",
   "pygments_lexer": "ipython3",
   "version": "3.13.5"
  }
 },
 "nbformat": 4,
 "nbformat_minor": 5
}
