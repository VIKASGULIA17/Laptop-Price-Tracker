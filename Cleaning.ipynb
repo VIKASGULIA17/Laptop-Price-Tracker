{
 "cells": [
  {
   "cell_type": "code",
   "execution_count": 1,
   "id": "fbf55cc2-ee56-46af-881d-e46060dd4e26",
   "metadata": {},
   "outputs": [],
   "source": [
    "import pandas as pd"
   ]
  },
  {
   "cell_type": "code",
   "execution_count": 2,
   "id": "a3e44600-5278-41ad-96d1-991e80b0a51e",
   "metadata": {},
   "outputs": [],
   "source": [
    "df=pd.read_csv('amazon_laptop_Data2025-08-01.csv')"
   ]
  },
  {
   "cell_type": "code",
   "execution_count": 18,
   "id": "f316a3df-89fc-4e28-8f07-9d7ec5386513",
   "metadata": {},
   "outputs": [],
   "source": [
    "import pandas as pd\n",
    "import ast\n",
    "from sklearn.impute import SimpleImputer\n",
    "from sklearn.compose import ColumnTransformer\n",
    "\n",
    "def clean_delivery(col):\n",
    "    return col[2:15]\n",
    "\n",
    "def change_datatype(df):\n",
    "    df['extracted_price'] = df['extracted_price'].astype(float)\n",
    "    df['rating'] = df['rating'].astype(float)\n",
    "    df['reviews'] = df['reviews'].astype(float)\n",
    "    df['scrape_date'] = pd.to_datetime(df['scrape_date'])\n",
    "    return df\n",
    "\n",
    "def parse_specs(spec_str):\n",
    "    DEFAULT_KEYS = ['display_size', 'ram', 'disk_size', 'operating_system']\n",
    "    try:\n",
    "        spec_dict = ast.literal_eval(spec_str)\n",
    "        return pd.Series({key: spec_dict.get(key) for key in DEFAULT_KEYS})\n",
    "    except:\n",
    "        return pd.Series({key: None for key in DEFAULT_KEYS})\n",
    "\n",
    "def clean_spec_values(df):\n",
    "    \"\"\"\n",
    "    Clean and unify inconsistent spec values (like None, '-', '16', etc.)\n",
    "    \"\"\"\n",
    "    for col in ['display_size', 'ram', 'disk_size', 'operating_system']:\n",
    "        df[col] = df[col].replace(['-', 'None', 'none', '', 'nan', 'NaN'], None)\n",
    "        df[col] = df[col].fillna(\"Info not available\")\n",
    "    return df\n",
    "\n",
    "def data_cleaning(df):\n",
    "    df = df[['rating', 'reviews', 'extracted_price', 'asin', 'title', 'link_clean', 'thumbnail', 'delivery', 'scrape_date', 'specs']]\n",
    "\n",
    "    # Step 1: Parse specs\n",
    "    specs_df = df['specs'].apply(parse_specs)\n",
    "    df = pd.concat([df.drop(columns=['specs']), specs_df], axis=1)\n",
    "\n",
    "    # Step 2: Clean spec fields\n",
    "    df = clean_spec_values(df)\n",
    "\n",
    "    # Step 3: Convert to correct data types early\n",
    "    df = change_datatype(df)\n",
    "\n",
    "    # Step 4: Clean delivery column\n",
    "    # df['delivery'] = df['delivery'].apply(clean_delivery)\n",
    "\n",
    "    # Step 5: Impute only numerical columns\n",
    "    numerical_cols = df.select_dtypes(include=['int64', 'float64']).columns.tolist()\n",
    "\n",
    "    transformer = ColumnTransformer(\n",
    "        transformers=[\n",
    "            ('num_imputer', SimpleImputer(strategy='mean'), numerical_cols)\n",
    "        ],\n",
    "        remainder='passthrough'\n",
    "    )\n",
    "\n",
    "    transformed_data = transformer.fit_transform(df)\n",
    "\n",
    "    # Fix column names properly\n",
    "    passthrough_cols = df.columns.difference(numerical_cols).tolist()\n",
    "    new_cols = numerical_cols + passthrough_cols\n",
    "    df_imputed = pd.DataFrame(transformed_data, columns=new_cols, index=df.index)\n",
    "\n",
    "    # Step 6: Final null check\n",
    "    print(\"Nulls after cleaning:\")\n",
    "    print(df_imputed.isnull().sum())\n",
    "    print(\"-\" * 100)\n",
    "\n",
    "    df_imputed.to_csv('cleaned_data.csv', index=False)\n",
    "    return df_imputed\n"
   ]
  },
  {
   "cell_type": "code",
   "execution_count": null,
   "id": "de220b1d-6100-4863-af6f-4a238513b24e",
   "metadata": {},
   "outputs": [],
   "source": []
  },
  {
   "cell_type": "code",
   "execution_count": 16,
   "id": "380d1a93-bf26-403d-ba54-5f50e1d5574d",
   "metadata": {},
   "outputs": [
    {
     "name": "stdout",
     "output_type": "stream",
     "text": [
      "Nulls after cleaning:\n",
      "rating              0\n",
      "reviews             0\n",
      "extracted_price     0\n",
      "asin                0\n",
      "delivery            0\n",
      "disk_size           0\n",
      "display_size        0\n",
      "link_clean          8\n",
      "operating_system    0\n",
      "ram                 0\n",
      "scrape_date         0\n",
      "thumbnail           0\n",
      "title               0\n",
      "dtype: int64\n",
      "----------------------------------------------------------------------------------------------------\n"
     ]
    }
   ],
   "source": [
    "x=data_cleaning(df)"
   ]
  },
  {
   "cell_type": "code",
   "execution_count": 12,
   "id": "8ac315d1-2631-4efe-946f-be60b2a2697a",
   "metadata": {
    "scrolled": true
   },
   "outputs": [
    {
     "data": {
      "text/plain": [
       "ram\n",
       "-           147\n",
       "16 GB        84\n",
       "32 GB        64\n",
       "4 GB         25\n",
       "8 GB         21\n",
       "20 GB        17\n",
       "40 GB        16\n",
       "None         14\n",
       "4             9\n",
       "36 GB         8\n",
       "64 GB         5\n",
       "24 GB         5\n",
       "16            4\n",
       "16.00 GB      3\n",
       "12 GB         3\n",
       "0 GB          2\n",
       "0 TB          1\n",
       "24            1\n",
       "12            1\n",
       "32.00 GB      1\n",
       "16.0 GB       1\n",
       "Name: count, dtype: int64"
      ]
     },
     "execution_count": 12,
     "metadata": {},
     "output_type": "execute_result"
    }
   ],
   "source": [
    "x['ram'].value_counts()"
   ]
  },
  {
   "cell_type": "code",
   "execution_count": 17,
   "id": "50c3e088-ad21-4db5-8023-2483a171f937",
   "metadata": {},
   "outputs": [
    {
     "data": {
      "text/plain": [
       "rating              0\n",
       "reviews             0\n",
       "extracted_price     0\n",
       "asin                0\n",
       "delivery            0\n",
       "disk_size           0\n",
       "display_size        0\n",
       "link_clean          8\n",
       "operating_system    0\n",
       "ram                 0\n",
       "scrape_date         0\n",
       "thumbnail           0\n",
       "title               0\n",
       "dtype: int64"
      ]
     },
     "execution_count": 17,
     "metadata": {},
     "output_type": "execute_result"
    }
   ],
   "source": [
    "pd.read_csv('cleaned_data.csv').isnull().sum()"
   ]
  },
  {
   "cell_type": "code",
   "execution_count": null,
   "id": "f61dc1d8-33d0-44e6-b963-a0ad468c01d0",
   "metadata": {},
   "outputs": [],
   "source": []
  }
 ],
 "metadata": {
  "kernelspec": {
   "display_name": "Python 3 (ipykernel)",
   "language": "python",
   "name": "python3"
  },
  "language_info": {
   "codemirror_mode": {
    "name": "ipython",
    "version": 3
   },
   "file_extension": ".py",
   "mimetype": "text/x-python",
   "name": "python",
   "nbconvert_exporter": "python",
   "pygments_lexer": "ipython3",
   "version": "3.13.5"
  }
 },
 "nbformat": 4,
 "nbformat_minor": 5
}
